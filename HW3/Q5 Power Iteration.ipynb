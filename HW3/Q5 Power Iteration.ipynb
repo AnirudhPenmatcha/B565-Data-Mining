{
 "cells": [
  {
   "cell_type": "markdown",
   "metadata": {},
   "source": [
    "# Creating the Transition Matrix for the given input"
   ]
  },
  {
   "cell_type": "code",
   "execution_count": 234,
   "metadata": {},
   "outputs": [
    {
     "name": "stdout",
     "output_type": "stream",
     "text": [
      "Transition Matrix:\n",
      "[[0.         0.00288184 0.00288184 ... 0.         0.         0.        ]\n",
      " [0.         0.         0.         ... 0.         0.         0.        ]\n",
      " [0.         0.         0.         ... 0.         0.         0.        ]\n",
      " ...\n",
      " [0.         0.         0.         ... 0.         0.         0.        ]\n",
      " [0.         0.         0.         ... 0.         0.         0.        ]\n",
      " [0.         0.         0.         ... 0.         0.         0.        ]]\n"
     ]
    }
   ],
   "source": [
    "import numpy as np\n",
    "\n",
    "filename = \"facebook_data.txt\"\n",
    "# filename = \"input.txt\"\n",
    "\n",
    "# Initialize variables\n",
    "nodes = set()\n",
    "edges = []\n",
    "\n",
    "# Read the input from the file\n",
    "with open(filename, \"r\") as file:\n",
    "    for line in file:\n",
    "        source, target = line.strip().split()\n",
    "        nodes.add(source)\n",
    "        nodes.add(target)\n",
    "        edges.append((source, target))\n",
    "\n",
    "# Get unique nodes\n",
    "nodes = sorted(list(nodes))\n",
    "\n",
    "# Create a mapping from node names to unique numerical IDs\n",
    "node_to_id = {node: idx for idx, node in enumerate(nodes)}\n",
    "\n",
    "# Initialize an empty adjacency matrix\n",
    "num_nodes = len(nodes)\n",
    "adjacency_matrix = np.zeros((num_nodes, num_nodes))\n",
    "\n",
    "# Fill in the adjacency matrix based on the edges\n",
    "for source, target in edges:\n",
    "    source_id = node_to_id[source]\n",
    "    target_id = node_to_id[target]\n",
    "    adjacency_matrix[source_id, target_id] = 1\n",
    "\n",
    "# Calculate the out-degree of each node (sum of outgoing links)\n",
    "out_degree = adjacency_matrix.sum(axis=1)\n",
    "\n",
    "# Create the transition matrix\n",
    "transition_matrix = np.zeros((num_nodes, num_nodes))\n",
    "for i in range(num_nodes):\n",
    "    if out_degree[i] > 0:\n",
    "        transition_matrix[i, :] = adjacency_matrix[i, :] / out_degree[i]\n",
    "\n",
    "# Print the transition matrix\n",
    "print(\"Transition Matrix:\")\n",
    "print(transition_matrix)"
   ]
  },
  {
   "cell_type": "markdown",
   "metadata": {},
   "source": [
    "# Converge the page ranks"
   ]
  },
  {
   "cell_type": "code",
   "execution_count": 235,
   "metadata": {},
   "outputs": [
    {
     "name": "stdout",
     "output_type": "stream",
     "text": [
      "Number of iterations before convergence of values =  26\n",
      "Page ranks: \n",
      "[0.00000000e+00 0.00000000e+00 0.00000000e+00 ... 2.88910531e-28\n",
      " 2.00987264e-27 7.03401658e-21]\n"
     ]
    }
   ],
   "source": [
    "# Create a matrix with initial values of Matrix\n",
    "Pj_plus_1 = np.ones(len(nodes)) / len(nodes)\n",
    "# Define no. of iterations\n",
    "iterations = 1\n",
    "\n",
    "while True:\n",
    "    Pi_minus_1 = Pj_plus_1\n",
    "    Pj_plus_1 = np.dot(transition_matrix.T,Pj_plus_1)\n",
    "    if np.allclose(Pi_minus_1,Pj_plus_1):\n",
    "        break\n",
    "    iterations+=1\n",
    "\n",
    "print(\"Number of iterations before convergence of values = \", iterations)\n",
    "print(\"Page ranks: \")\n",
    "print(Pj_plus_1)"
   ]
  },
  {
   "cell_type": "markdown",
   "metadata": {},
   "source": [
    "# Writing the output to a text file"
   ]
  },
  {
   "cell_type": "code",
   "execution_count": 236,
   "metadata": {},
   "outputs": [],
   "source": [
    "sort_index = np.argsort(Pj_plus_1)\n",
    "output = str()\n",
    "with open('output.txt','w') as results:\n",
    "    for i in range(1,len(Pj_plus_1)+1):\n",
    "        if alpha:\n",
    "            output = output + f\"\"\n",
    "        output = output + f\"Rank {i}, Node {sort_index[-i]} \\n\"\n",
    "    results.write(output)"
   ]
  }
 ],
 "metadata": {
  "kernelspec": {
   "display_name": "Python 3",
   "language": "python",
   "name": "python3"
  },
  "language_info": {
   "codemirror_mode": {
    "name": "ipython",
    "version": 3
   },
   "file_extension": ".py",
   "mimetype": "text/x-python",
   "name": "python",
   "nbconvert_exporter": "python",
   "pygments_lexer": "ipython3",
   "version": "3.10.12"
  }
 },
 "nbformat": 4,
 "nbformat_minor": 2
}
