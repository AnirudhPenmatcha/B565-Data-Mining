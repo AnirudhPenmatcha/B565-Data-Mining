{
 "cells": [
  {
   "cell_type": "code",
   "execution_count": 3,
   "metadata": {
    "_cell_guid": "cd90f087-5bb3-4a68-86db-cd5eb59a71dc",
    "_uuid": "77872d05-03df-4bfa-a0df-841c7db7a4c2",
    "execution": {
     "iopub.execute_input": "2023-09-26T19:39:35.624004Z",
     "iopub.status.busy": "2023-09-26T19:39:35.623171Z",
     "iopub.status.idle": "2023-09-26T19:39:41.118556Z",
     "shell.execute_reply": "2023-09-26T19:39:41.117525Z",
     "shell.execute_reply.started": "2023-09-26T19:39:35.623927Z"
    }
   },
   "outputs": [
    {
     "data": {
      "text/html": [
       "<div>\n",
       "<style scoped>\n",
       "    .dataframe tbody tr th:only-of-type {\n",
       "        vertical-align: middle;\n",
       "    }\n",
       "\n",
       "    .dataframe tbody tr th {\n",
       "        vertical-align: top;\n",
       "    }\n",
       "\n",
       "    .dataframe thead th {\n",
       "        text-align: right;\n",
       "    }\n",
       "</style>\n",
       "<table border=\"1\" class=\"dataframe\">\n",
       "  <thead>\n",
       "    <tr style=\"text-align: right;\">\n",
       "      <th></th>\n",
       "      <th>Time</th>\n",
       "      <th>V1</th>\n",
       "      <th>V2</th>\n",
       "      <th>V3</th>\n",
       "      <th>V4</th>\n",
       "      <th>V5</th>\n",
       "      <th>V6</th>\n",
       "      <th>V7</th>\n",
       "      <th>V8</th>\n",
       "      <th>V9</th>\n",
       "      <th>...</th>\n",
       "      <th>V21</th>\n",
       "      <th>V22</th>\n",
       "      <th>V23</th>\n",
       "      <th>V24</th>\n",
       "      <th>V25</th>\n",
       "      <th>V26</th>\n",
       "      <th>V27</th>\n",
       "      <th>V28</th>\n",
       "      <th>Amount</th>\n",
       "      <th>Class</th>\n",
       "    </tr>\n",
       "  </thead>\n",
       "  <tbody>\n",
       "    <tr>\n",
       "      <th>count</th>\n",
       "      <td>284807.000000</td>\n",
       "      <td>2.848070e+05</td>\n",
       "      <td>2.848070e+05</td>\n",
       "      <td>2.848070e+05</td>\n",
       "      <td>2.848070e+05</td>\n",
       "      <td>2.848070e+05</td>\n",
       "      <td>2.848070e+05</td>\n",
       "      <td>2.848070e+05</td>\n",
       "      <td>2.848070e+05</td>\n",
       "      <td>2.848070e+05</td>\n",
       "      <td>...</td>\n",
       "      <td>2.848070e+05</td>\n",
       "      <td>2.848070e+05</td>\n",
       "      <td>2.848070e+05</td>\n",
       "      <td>2.848070e+05</td>\n",
       "      <td>2.848070e+05</td>\n",
       "      <td>2.848070e+05</td>\n",
       "      <td>2.848070e+05</td>\n",
       "      <td>2.848070e+05</td>\n",
       "      <td>284807.000000</td>\n",
       "      <td>284807.000000</td>\n",
       "    </tr>\n",
       "    <tr>\n",
       "      <th>mean</th>\n",
       "      <td>94813.859575</td>\n",
       "      <td>1.168375e-15</td>\n",
       "      <td>3.416908e-16</td>\n",
       "      <td>-1.379537e-15</td>\n",
       "      <td>2.074095e-15</td>\n",
       "      <td>9.604066e-16</td>\n",
       "      <td>1.487313e-15</td>\n",
       "      <td>-5.556467e-16</td>\n",
       "      <td>1.213481e-16</td>\n",
       "      <td>-2.406331e-15</td>\n",
       "      <td>...</td>\n",
       "      <td>1.654067e-16</td>\n",
       "      <td>-3.568593e-16</td>\n",
       "      <td>2.578648e-16</td>\n",
       "      <td>4.473266e-15</td>\n",
       "      <td>5.340915e-16</td>\n",
       "      <td>1.683437e-15</td>\n",
       "      <td>-3.660091e-16</td>\n",
       "      <td>-1.227390e-16</td>\n",
       "      <td>88.349619</td>\n",
       "      <td>0.001727</td>\n",
       "    </tr>\n",
       "    <tr>\n",
       "      <th>std</th>\n",
       "      <td>47488.145955</td>\n",
       "      <td>1.958696e+00</td>\n",
       "      <td>1.651309e+00</td>\n",
       "      <td>1.516255e+00</td>\n",
       "      <td>1.415869e+00</td>\n",
       "      <td>1.380247e+00</td>\n",
       "      <td>1.332271e+00</td>\n",
       "      <td>1.237094e+00</td>\n",
       "      <td>1.194353e+00</td>\n",
       "      <td>1.098632e+00</td>\n",
       "      <td>...</td>\n",
       "      <td>7.345240e-01</td>\n",
       "      <td>7.257016e-01</td>\n",
       "      <td>6.244603e-01</td>\n",
       "      <td>6.056471e-01</td>\n",
       "      <td>5.212781e-01</td>\n",
       "      <td>4.822270e-01</td>\n",
       "      <td>4.036325e-01</td>\n",
       "      <td>3.300833e-01</td>\n",
       "      <td>250.120109</td>\n",
       "      <td>0.041527</td>\n",
       "    </tr>\n",
       "    <tr>\n",
       "      <th>min</th>\n",
       "      <td>0.000000</td>\n",
       "      <td>-5.640751e+01</td>\n",
       "      <td>-7.271573e+01</td>\n",
       "      <td>-4.832559e+01</td>\n",
       "      <td>-5.683171e+00</td>\n",
       "      <td>-1.137433e+02</td>\n",
       "      <td>-2.616051e+01</td>\n",
       "      <td>-4.355724e+01</td>\n",
       "      <td>-7.321672e+01</td>\n",
       "      <td>-1.343407e+01</td>\n",
       "      <td>...</td>\n",
       "      <td>-3.483038e+01</td>\n",
       "      <td>-1.093314e+01</td>\n",
       "      <td>-4.480774e+01</td>\n",
       "      <td>-2.836627e+00</td>\n",
       "      <td>-1.029540e+01</td>\n",
       "      <td>-2.604551e+00</td>\n",
       "      <td>-2.256568e+01</td>\n",
       "      <td>-1.543008e+01</td>\n",
       "      <td>0.000000</td>\n",
       "      <td>0.000000</td>\n",
       "    </tr>\n",
       "    <tr>\n",
       "      <th>25%</th>\n",
       "      <td>54201.500000</td>\n",
       "      <td>-9.203734e-01</td>\n",
       "      <td>-5.985499e-01</td>\n",
       "      <td>-8.903648e-01</td>\n",
       "      <td>-8.486401e-01</td>\n",
       "      <td>-6.915971e-01</td>\n",
       "      <td>-7.682956e-01</td>\n",
       "      <td>-5.540759e-01</td>\n",
       "      <td>-2.086297e-01</td>\n",
       "      <td>-6.430976e-01</td>\n",
       "      <td>...</td>\n",
       "      <td>-2.283949e-01</td>\n",
       "      <td>-5.423504e-01</td>\n",
       "      <td>-1.618463e-01</td>\n",
       "      <td>-3.545861e-01</td>\n",
       "      <td>-3.171451e-01</td>\n",
       "      <td>-3.269839e-01</td>\n",
       "      <td>-7.083953e-02</td>\n",
       "      <td>-5.295979e-02</td>\n",
       "      <td>5.600000</td>\n",
       "      <td>0.000000</td>\n",
       "    </tr>\n",
       "    <tr>\n",
       "      <th>50%</th>\n",
       "      <td>84692.000000</td>\n",
       "      <td>1.810880e-02</td>\n",
       "      <td>6.548556e-02</td>\n",
       "      <td>1.798463e-01</td>\n",
       "      <td>-1.984653e-02</td>\n",
       "      <td>-5.433583e-02</td>\n",
       "      <td>-2.741871e-01</td>\n",
       "      <td>4.010308e-02</td>\n",
       "      <td>2.235804e-02</td>\n",
       "      <td>-5.142873e-02</td>\n",
       "      <td>...</td>\n",
       "      <td>-2.945017e-02</td>\n",
       "      <td>6.781943e-03</td>\n",
       "      <td>-1.119293e-02</td>\n",
       "      <td>4.097606e-02</td>\n",
       "      <td>1.659350e-02</td>\n",
       "      <td>-5.213911e-02</td>\n",
       "      <td>1.342146e-03</td>\n",
       "      <td>1.124383e-02</td>\n",
       "      <td>22.000000</td>\n",
       "      <td>0.000000</td>\n",
       "    </tr>\n",
       "    <tr>\n",
       "      <th>75%</th>\n",
       "      <td>139320.500000</td>\n",
       "      <td>1.315642e+00</td>\n",
       "      <td>8.037239e-01</td>\n",
       "      <td>1.027196e+00</td>\n",
       "      <td>7.433413e-01</td>\n",
       "      <td>6.119264e-01</td>\n",
       "      <td>3.985649e-01</td>\n",
       "      <td>5.704361e-01</td>\n",
       "      <td>3.273459e-01</td>\n",
       "      <td>5.971390e-01</td>\n",
       "      <td>...</td>\n",
       "      <td>1.863772e-01</td>\n",
       "      <td>5.285536e-01</td>\n",
       "      <td>1.476421e-01</td>\n",
       "      <td>4.395266e-01</td>\n",
       "      <td>3.507156e-01</td>\n",
       "      <td>2.409522e-01</td>\n",
       "      <td>9.104512e-02</td>\n",
       "      <td>7.827995e-02</td>\n",
       "      <td>77.165000</td>\n",
       "      <td>0.000000</td>\n",
       "    </tr>\n",
       "    <tr>\n",
       "      <th>max</th>\n",
       "      <td>172792.000000</td>\n",
       "      <td>2.454930e+00</td>\n",
       "      <td>2.205773e+01</td>\n",
       "      <td>9.382558e+00</td>\n",
       "      <td>1.687534e+01</td>\n",
       "      <td>3.480167e+01</td>\n",
       "      <td>7.330163e+01</td>\n",
       "      <td>1.205895e+02</td>\n",
       "      <td>2.000721e+01</td>\n",
       "      <td>1.559499e+01</td>\n",
       "      <td>...</td>\n",
       "      <td>2.720284e+01</td>\n",
       "      <td>1.050309e+01</td>\n",
       "      <td>2.252841e+01</td>\n",
       "      <td>4.584549e+00</td>\n",
       "      <td>7.519589e+00</td>\n",
       "      <td>3.517346e+00</td>\n",
       "      <td>3.161220e+01</td>\n",
       "      <td>3.384781e+01</td>\n",
       "      <td>25691.160000</td>\n",
       "      <td>1.000000</td>\n",
       "    </tr>\n",
       "  </tbody>\n",
       "</table>\n",
       "<p>8 rows × 31 columns</p>\n",
       "</div>"
      ],
      "text/plain": [
       "                Time            V1            V2            V3            V4  \\\n",
       "count  284807.000000  2.848070e+05  2.848070e+05  2.848070e+05  2.848070e+05   \n",
       "mean    94813.859575  1.168375e-15  3.416908e-16 -1.379537e-15  2.074095e-15   \n",
       "std     47488.145955  1.958696e+00  1.651309e+00  1.516255e+00  1.415869e+00   \n",
       "min         0.000000 -5.640751e+01 -7.271573e+01 -4.832559e+01 -5.683171e+00   \n",
       "25%     54201.500000 -9.203734e-01 -5.985499e-01 -8.903648e-01 -8.486401e-01   \n",
       "50%     84692.000000  1.810880e-02  6.548556e-02  1.798463e-01 -1.984653e-02   \n",
       "75%    139320.500000  1.315642e+00  8.037239e-01  1.027196e+00  7.433413e-01   \n",
       "max    172792.000000  2.454930e+00  2.205773e+01  9.382558e+00  1.687534e+01   \n",
       "\n",
       "                 V5            V6            V7            V8            V9  \\\n",
       "count  2.848070e+05  2.848070e+05  2.848070e+05  2.848070e+05  2.848070e+05   \n",
       "mean   9.604066e-16  1.487313e-15 -5.556467e-16  1.213481e-16 -2.406331e-15   \n",
       "std    1.380247e+00  1.332271e+00  1.237094e+00  1.194353e+00  1.098632e+00   \n",
       "min   -1.137433e+02 -2.616051e+01 -4.355724e+01 -7.321672e+01 -1.343407e+01   \n",
       "25%   -6.915971e-01 -7.682956e-01 -5.540759e-01 -2.086297e-01 -6.430976e-01   \n",
       "50%   -5.433583e-02 -2.741871e-01  4.010308e-02  2.235804e-02 -5.142873e-02   \n",
       "75%    6.119264e-01  3.985649e-01  5.704361e-01  3.273459e-01  5.971390e-01   \n",
       "max    3.480167e+01  7.330163e+01  1.205895e+02  2.000721e+01  1.559499e+01   \n",
       "\n",
       "       ...           V21           V22           V23           V24  \\\n",
       "count  ...  2.848070e+05  2.848070e+05  2.848070e+05  2.848070e+05   \n",
       "mean   ...  1.654067e-16 -3.568593e-16  2.578648e-16  4.473266e-15   \n",
       "std    ...  7.345240e-01  7.257016e-01  6.244603e-01  6.056471e-01   \n",
       "min    ... -3.483038e+01 -1.093314e+01 -4.480774e+01 -2.836627e+00   \n",
       "25%    ... -2.283949e-01 -5.423504e-01 -1.618463e-01 -3.545861e-01   \n",
       "50%    ... -2.945017e-02  6.781943e-03 -1.119293e-02  4.097606e-02   \n",
       "75%    ...  1.863772e-01  5.285536e-01  1.476421e-01  4.395266e-01   \n",
       "max    ...  2.720284e+01  1.050309e+01  2.252841e+01  4.584549e+00   \n",
       "\n",
       "                V25           V26           V27           V28         Amount  \\\n",
       "count  2.848070e+05  2.848070e+05  2.848070e+05  2.848070e+05  284807.000000   \n",
       "mean   5.340915e-16  1.683437e-15 -3.660091e-16 -1.227390e-16      88.349619   \n",
       "std    5.212781e-01  4.822270e-01  4.036325e-01  3.300833e-01     250.120109   \n",
       "min   -1.029540e+01 -2.604551e+00 -2.256568e+01 -1.543008e+01       0.000000   \n",
       "25%   -3.171451e-01 -3.269839e-01 -7.083953e-02 -5.295979e-02       5.600000   \n",
       "50%    1.659350e-02 -5.213911e-02  1.342146e-03  1.124383e-02      22.000000   \n",
       "75%    3.507156e-01  2.409522e-01  9.104512e-02  7.827995e-02      77.165000   \n",
       "max    7.519589e+00  3.517346e+00  3.161220e+01  3.384781e+01   25691.160000   \n",
       "\n",
       "               Class  \n",
       "count  284807.000000  \n",
       "mean        0.001727  \n",
       "std         0.041527  \n",
       "min         0.000000  \n",
       "25%         0.000000  \n",
       "50%         0.000000  \n",
       "75%         0.000000  \n",
       "max         1.000000  \n",
       "\n",
       "[8 rows x 31 columns]"
      ]
     },
     "execution_count": 3,
     "metadata": {},
     "output_type": "execute_result"
    }
   ],
   "source": [
    "import numpy as np\n",
    "import pandas as pd\n",
    "import matplotlib.pyplot as plt\n",
    "import seaborn as sb\n",
    "\n",
    "#in Kaggle, File -> Add or upload data -> search for credit card\n",
    "#note about the folder: ../input/creditcard\n",
    "#change the folder if you have data in a different folder\n",
    "data = pd.read_csv(\"creditcard.csv\")\n",
    "#data.head()\n",
    "data.describe()"
   ]
  },
  {
   "cell_type": "code",
   "execution_count": 4,
   "metadata": {
    "_cell_guid": "a4ab5586-fc8a-4977-ae79-4b3348220710",
    "_uuid": "d2a4adf6-82b0-4f17-804a-97e24fc3797f",
    "execution": {
     "iopub.execute_input": "2023-09-26T19:39:41.121349Z",
     "iopub.status.busy": "2023-09-26T19:39:41.120747Z",
     "iopub.status.idle": "2023-09-26T19:39:41.146420Z",
     "shell.execute_reply": "2023-09-26T19:39:41.145253Z",
     "shell.execute_reply.started": "2023-09-26T19:39:41.121278Z"
    }
   },
   "outputs": [],
   "source": [
    "#check if there are missing data\n",
    "data.isnull().any().any()\n",
    "\n",
    "#change 'Class' dtype to \"bool\"\n",
    "data['Class'] = data['Class'].astype('bool')"
   ]
  },
  {
   "cell_type": "code",
   "execution_count": 5,
   "metadata": {
    "_cell_guid": "34d9a62e-9419-4991-82a5-06294371d04d",
    "_uuid": "caf8e04a-c2a9-473c-aee6-dd88b51c0ca0",
    "execution": {
     "iopub.execute_input": "2023-09-26T19:39:41.149116Z",
     "iopub.status.busy": "2023-09-26T19:39:41.148560Z",
     "iopub.status.idle": "2023-09-26T19:39:41.178447Z",
     "shell.execute_reply": "2023-09-26T19:39:41.177368Z",
     "shell.execute_reply.started": "2023-09-26T19:39:41.149000Z"
    }
   },
   "outputs": [
    {
     "name": "stdout",
     "output_type": "stream",
     "text": [
      "Class\n",
      "False    284315\n",
      "True        492\n",
      "Name: count, dtype: int64\n"
     ]
    }
   ],
   "source": [
    "class_zero = data.Class.value_counts().values[0]\n",
    "class_one = data.Class.value_counts().values[1]\n",
    "print(data[\"Class\"].value_counts())"
   ]
  },
  {
   "cell_type": "code",
   "execution_count": 6,
   "metadata": {
    "_cell_guid": "669bb12b-813e-4733-85fb-694b7830973f",
    "_uuid": "a2780265-20eb-4b1a-901d-5410213a3da3",
    "execution": {
     "iopub.execute_input": "2023-09-26T19:39:41.180811Z",
     "iopub.status.busy": "2023-09-26T19:39:41.180438Z",
     "iopub.status.idle": "2023-09-26T19:39:41.358676Z",
     "shell.execute_reply": "2023-09-26T19:39:41.357887Z",
     "shell.execute_reply.started": "2023-09-26T19:39:41.180749Z"
    }
   },
   "outputs": [
    {
     "name": "stderr",
     "output_type": "stream",
     "text": [
      "/home/anirudh/.local/lib/python3.10/site-packages/seaborn/_oldcore.py:1498: FutureWarning: is_categorical_dtype is deprecated and will be removed in a future version. Use isinstance(dtype, CategoricalDtype) instead\n",
      "  if pd.api.types.is_categorical_dtype(vector):\n",
      "/home/anirudh/.local/lib/python3.10/site-packages/seaborn/_oldcore.py:1498: FutureWarning: is_categorical_dtype is deprecated and will be removed in a future version. Use isinstance(dtype, CategoricalDtype) instead\n",
      "  if pd.api.types.is_categorical_dtype(vector):\n",
      "/home/anirudh/.local/lib/python3.10/site-packages/seaborn/_oldcore.py:1498: FutureWarning: is_categorical_dtype is deprecated and will be removed in a future version. Use isinstance(dtype, CategoricalDtype) instead\n",
      "  if pd.api.types.is_categorical_dtype(vector):\n"
     ]
    },
    {
     "data": {
      "text/plain": [
       "Text(0.5, 1.0, 'Class distribution')"
      ]
     },
     "execution_count": 6,
     "metadata": {},
     "output_type": "execute_result"
    },
    {
     "data": {
      "image/png": "[encoded data removed]",
      "text/plain": [
       "<Figure size 432x288 with 1 Axes>"
      ]
     },
     "metadata": {
      "needs_background": "light"
     },
     "output_type": "display_data"
    }
   ],
   "source": [
    "sb.barplot(x=data.Class.value_counts().index.values, y=data.Class.value_counts().values)\n",
    "plt.title(\"Class distribution\")"
   ]
  },
  {
   "cell_type": "code",
   "execution_count": 7,
   "metadata": {
    "_cell_guid": "2e3cbf11-8402-4f1c-8262-ae1db373fd6d",
    "_uuid": "83f53f3d-d692-417c-94a3-b6db485711e9",
    "execution": {
     "iopub.execute_input": "2023-09-26T19:39:41.362251Z",
     "iopub.status.busy": "2023-09-26T19:39:41.361482Z",
     "iopub.status.idle": "2023-09-26T19:39:41.400268Z",
     "shell.execute_reply": "2023-09-26T19:39:41.399242Z",
     "shell.execute_reply.started": "2023-09-26T19:39:41.362181Z"
    }
   },
   "outputs": [
    {
     "data": {
      "text/plain": [
       "count    2.848070e+05\n",
       "mean     2.913952e-17\n",
       "std      1.000002e+00\n",
       "min     -3.532294e-01\n",
       "25%     -3.308401e-01\n",
       "50%     -2.652715e-01\n",
       "75%     -4.471707e-02\n",
       "max      1.023622e+02\n",
       "Name: AmountNormalized, dtype: float64"
      ]
     },
     "execution_count": 7,
     "metadata": {},
     "output_type": "execute_result"
    }
   ],
   "source": [
    "from sklearn.model_selection import train_test_split\n",
    "from sklearn.preprocessing import StandardScaler\n",
    "from sklearn import metrics\n",
    "data['AmountNormalized'] = StandardScaler().fit_transform(data['Amount'].values.reshape(-1, 1))\n",
    "data['AmountNormalized'].describe()"
   ]
  },
  {
   "cell_type": "code",
   "execution_count": 8,
   "metadata": {
    "_cell_guid": "1161036b-44b2-4ee1-885d-611b811a76a6",
    "_uuid": "6b20b204-87b1-4c64-a5e3-2860b1127e2f",
    "execution": {
     "iopub.execute_input": "2023-09-26T19:39:41.402605Z",
     "iopub.status.busy": "2023-09-26T19:39:41.402225Z",
     "iopub.status.idle": "2023-09-26T19:39:41.598270Z",
     "shell.execute_reply": "2023-09-26T19:39:41.597262Z",
     "shell.execute_reply.started": "2023-09-26T19:39:41.402542Z"
    }
   },
   "outputs": [],
   "source": [
    "X = data.iloc[:, data.columns != 'Class'].values\n",
    "y = data.iloc[:, data.columns == 'Class'].values\n",
    "X_train, X_test, y_train, y_test = train_test_split(X, y, test_size = 0.2, random_state = 0)"
   ]
  },
  {
   "cell_type": "code",
   "execution_count": 9,
   "metadata": {
    "_cell_guid": "1489632f-0265-4aed-b9bb-4dbed79c9955",
    "_uuid": "16b87e58-dc57-4238-9c87-800dee41058f",
    "execution": {
     "iopub.execute_input": "2023-09-26T19:39:41.601051Z",
     "iopub.status.busy": "2023-09-26T19:39:41.600437Z",
     "iopub.status.idle": "2023-09-26T19:39:41.613890Z",
     "shell.execute_reply": "2023-09-26T19:39:41.612469Z",
     "shell.execute_reply.started": "2023-09-26T19:39:41.600966Z"
    }
   },
   "outputs": [],
   "source": [
    "def plot_precision_recall_curve(y_actual, y_score, model_name):\n",
    "    precision, recall, _ = metrics.precision_recall_curve(y_actual, y_score)\n",
    "    curve_data = pd.DataFrame(columns = range(0, len(precision)))\n",
    "    curve_data.loc['Precision'] = precision\n",
    "    curve_data.loc['Recall'] = recall\n",
    "    #print (curve_data)\n",
    "    plt.step(recall, precision, color='b', alpha=0.1, where='post')\n",
    "    plt.fill_between(recall, precision, step='post', alpha=0.1, color='b')\n",
    "    plt.title('Precision Recall Curve for {} Model'.format(model_name))\n",
    "    plt.xlabel('Recall')\n",
    "    plt.ylabel('Precision')\n",
    "    plt.xlim([0, 1.05])\n",
    "    plt.ylim([0, 1.0])\n",
    "\n",
    "def evaluate_model(y_actual, y_pred, y_score, model_name):\n",
    "    cm = metrics.confusion_matrix(y_actual, y_pred)\n",
    "    print ('Confusion Matrix for {} Model'.format(model_name))\n",
    "    print (cm)\n",
    "    print ('Classification Report for {} Model'.format(model_name))\n",
    "    print (metrics.classification_report(y_actual, y_pred, digits=6))\n",
    "    print ('Area under under ROC curve for {} Model'.format(model_name))\n",
    "    print (metrics.roc_auc_score(y_actual, y_score))\n",
    "    plot_precision_recall_curve(y_actual, y_score, model_name)"
   ]
  },
  {
   "cell_type": "code",
   "execution_count": 11,
   "metadata": {
    "_cell_guid": "2986ed0c-383c-43fc-a6e1-2700ab9e19af",
    "_uuid": "b629d9d3-e3b1-4a9f-ae50-e1679a0536ad",
    "execution": {
     "iopub.execute_input": "2023-09-26T19:55:23.565046Z",
     "iopub.status.busy": "2023-09-26T19:55:23.564646Z"
    }
   },
   "outputs": [
    {
     "name": "stdout",
     "output_type": "stream",
     "text": [
      "Confusion Matrix for KNN (n=3) Model\n",
      "[[56853     8]\n",
      " [   30    71]]\n",
      "Classification Report for KNN (n=3) Model\n",
      "              precision    recall  f1-score   support\n",
      "\n",
      "       False   0.999473  0.999859  0.999666     56861\n",
      "        True   0.898734  0.702970  0.788889       101\n",
      "\n",
      "    accuracy                       0.999333     56962\n",
      "   macro avg   0.949103  0.851415  0.894277     56962\n",
      "weighted avg   0.999294  0.999333  0.999292     56962\n",
      "\n",
      "Area under under ROC curve for KNN (n=3) Model\n",
      "0.8711322434542041\n"
     ]
    },
    {
     "data": {
      "image/png": "[encoded data removed]",
      "text/plain": [
       "<Figure size 432x288 with 1 Axes>"
      ]
     },
     "metadata": {
      "needs_background": "light"
     },
     "output_type": "display_data"
    }
   ],
   "source": [
    "#KNN \n",
    "from sklearn.neighbors import KNeighborsClassifier\n",
    "#train\n",
    "knn = KNeighborsClassifier(n_neighbors=3, metric= 'cosine', p=2)\n",
    "knn.fit(X_train, y_train.ravel())\n",
    "#test\n",
    "y_pred_knn = knn.predict(X_test)\n",
    "y_prob_knn = knn.predict_proba(X_test)\n",
    "\n",
    "evaluate_model(y_test, y_pred_knn, y_prob_knn[:, [1]], 'KNN (n=3)')"
   ]
  },
  {
   "cell_type": "code",
   "execution_count": 10,
   "metadata": {
    "_cell_guid": "689fb3d6-c4fd-439a-995d-3c035afd7dd8",
    "_uuid": "be399739-d124-42ee-8787-cf63c1adfca6",
    "execution": {
     "iopub.execute_input": "2023-09-26T19:39:47.527396Z",
     "iopub.status.busy": "2023-09-26T19:39:47.526650Z",
     "iopub.status.idle": "2023-09-26T19:39:59.464626Z",
     "shell.execute_reply": "2023-09-26T19:39:59.463632Z",
     "shell.execute_reply.started": "2023-09-26T19:39:47.527328Z"
    }
   },
   "outputs": [
    {
     "name": "stderr",
     "output_type": "stream",
     "text": [
      "/opt/conda/lib/python3.6/site-packages/sklearn/linear_model/logistic.py:947: ConvergenceWarning: lbfgs failed to converge. Increase the number of iterations.\n",
      "  \"of iterations.\", ConvergenceWarning)\n"
     ]
    },
    {
     "name": "stdout",
     "output_type": "stream",
     "text": [
      "Confusion Matrix for Logistic Regression Model\n",
      "[[56836    25]\n",
      " [   28    73]]\n",
      "Classification Report for Logistic Regression Model\n",
      "              precision    recall  f1-score   support\n",
      "\n",
      "       False   0.999508  0.999560  0.999534     56861\n",
      "        True   0.744898  0.722772  0.733668       101\n",
      "\n",
      "    accuracy                       0.999070     56962\n",
      "   macro avg   0.872203  0.861166  0.866601     56962\n",
      "weighted avg   0.999056  0.999070  0.999063     56962\n",
      "\n",
      "Area under under ROC curve for Logistic Regression Model\n",
      "0.9331238711180523\n"
     ]
    },
    {
     "data": {
      "image/png": "[encoded data removed]",
      "text/plain": [
       "<Figure size 432x288 with 1 Axes>"
      ]
     },
     "metadata": {
      "needs_background": "light"
     },
     "output_type": "display_data"
    }
   ],
   "source": [
    "from sklearn.linear_model import LogisticRegression\n",
    "lr = LogisticRegression(solver='lbfgs')\n",
    "#note y_train.ravel()\n",
    "lr.fit(X_train, y_train.ravel())\n",
    "y_pred_lr = lr.predict(X_test)\n",
    "y_score_lr = lr.decision_function(X_test)\n",
    "y_prob_lr = lr.predict_proba(X_test)\n",
    "\n",
    "evaluate_model(y_test, y_pred_lr, y_prob_lr[:,[1]], 'Logistic Regression')"
   ]
  }
 ],
 "metadata": {
  "kernelspec": {
   "display_name": "Python 3 (ipykernel)",
   "language": "python",
   "name": "python3"
  },
  "language_info": {
   "codemirror_mode": {
    "name": "ipython",
    "version": 3
   },
   "file_extension": ".py",
   "mimetype": "text/x-python",
   "name": "python",
   "nbconvert_exporter": "python",
   "pygments_lexer": "ipython3",
   "version": "3.10.12"
  }
 },
 "nbformat": 4,
 "nbformat_minor": 4
}
